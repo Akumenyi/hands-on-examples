{
 "cells": [
  {
   "cell_type": "markdown",
   "metadata": {
    "slideshow": {
     "slide_type": "slide"
    }
   },
   "source": [
    "# Scaling out: `xarray` & `dask`\n",
    "\n",
    "\n",
    "<img src=\"https://github.com/pydata/xarray/raw/master/doc/_static/dataset-diagram.png\" alt=\"xarray Logo\" style=\"height: 150px;\">\n",
    "<img src=\"http://dask.readthedocs.io/en/latest/_images/dask_horizontal.svg\" \n",
    "     width=\"30%\" \n",
    "     align=right\n",
    "     alt=\"Dask logo\">"
   ]
  },
  {
   "cell_type": "markdown",
   "metadata": {
    "slideshow": {
     "slide_type": "slide"
    }
   },
   "source": [
    "## Parallel computing with Dask\n",
    "Dask divides arrays into many small pieces, called chunks, each of which is presumed to be small enough to fit into memory.\n",
    "\n",
    "![Dask Arrays](http://dask.pydata.org/en/latest/_images/dask-array-black-text.svg)\n",
    "\n",
    "_source: [Dask Array Documentation](http://dask.pydata.org/en/latest/array-overview.html)_"
   ]
  },
  {
   "cell_type": "markdown",
   "metadata": {
    "slideshow": {
     "slide_type": "slide"
    }
   },
   "source": [
    "## Spinning up a cluster\n",
    "\n",
    "```python\n",
    "from dask_jobqueue import PBSCluster\n",
    "PBSCluster(cores=1, memory='10GB', processes=1, queue='share', walltime='01:00:00')\n",
    "```\n",
    "cores: Total number of cores per job\n",
    "memory: '109GB'             # Total amount of memory per job\n",
    "processes: 9                # Number of Python processes per job\n",
    "interface: ib0              # Network interface to use like eth0 or ib0\n",
    "queue: regular\n",
    "walltime: '04:00:00'"
   ]
  },
  {
   "cell_type": "code",
   "execution_count": null,
   "metadata": {},
   "outputs": [],
   "source": []
  }
 ],
 "metadata": {
  "kernelspec": {
   "display_name": "Python [conda env:analysis]",
   "language": "python",
   "name": "conda-env-analysis-py"
  },
  "language_info": {
   "codemirror_mode": {
    "name": "ipython",
    "version": 3
   },
   "file_extension": ".py",
   "mimetype": "text/x-python",
   "name": "python",
   "nbconvert_exporter": "python",
   "pygments_lexer": "ipython3",
   "version": "3.7.3"
  }
 },
 "nbformat": 4,
 "nbformat_minor": 2
}
