{
 "cells": [
  {
   "cell_type": "markdown",
   "metadata": {},
   "source": [
    "# Hands-on Python Exercises\n",
    "\n",
    "## Functions\n",
    "\n",
    "\n",
    "Functions allow a programmer to break a problem into pieces that can be reused. They can also help a programmer focus on one part a larger problem at a time. As a result, writing functions is often an important part of developing larger pieces of software. \n",
    "\n",
    "### Objectives\n",
    "\n",
    "The exercises in this section will help you practice these skills:\n",
    "\n",
    "- Define a function for later use \n",
    "- Pass one or more values into a function\n",
    "- Write docstring (documentation) for a function\n",
    "- Perform a complex calculation within a function\n",
    "- Return one or more results from a function \n",
    "- Call a function that you have defined previously\n"
   ]
  },
  {
   "cell_type": "markdown",
   "metadata": {},
   "source": [
    "### Exercise: Median of Three Values \n",
    "\n",
    "\n",
    "Write a function that takes the lengths of the two shorter sides of a right triangle as its parameters. Return the hypotenuse of the triangle, computed using Pythagorean theorem, as the function’s result. Include a main program that reads the lengths of the shorter sides of a right triangle from the user, uses your function to compute the length of the hypotenuse, and displays the result."
   ]
  },
  {
   "cell_type": "code",
   "execution_count": null,
   "metadata": {},
   "outputs": [],
   "source": [
    "def median(a, b, c):\n",
    "    \"\"\"Docstring placeholder\"\"\"\n",
    "    pass \n",
    "\n",
    "def compute_median(a, b, c):\n",
    "    \"\"\"Display the median of three values\"\"\"\n",
    "    median(a, b, c)\n",
    "    pass\n"
   ]
  },
  {
   "cell_type": "code",
   "execution_count": null,
   "metadata": {},
   "outputs": [],
   "source": [
    "# %load solutions/median.py"
   ]
  },
  {
   "cell_type": "markdown",
   "metadata": {},
   "source": [
    "## Loops \n",
    "\n",
    "\n",
    "### Objectives\n",
    "\n",
    "- Complete exercises using `for`, `while` loops\n",
    "- Use Assertion\n",
    "- In some cases the exercise specifies what type of loop to use. In other cases you must make this decision yourself.\n",
    "\n",
    "### Exercise 1: Square Root\n",
    "\n",
    "\n",
    "Write a program that implements Newton's method to compute and display the square root of a number:\n",
    "\n",
    "$$x_{n+1}=\\frac{1}{2}\\left ( x_n + \\frac{a}{x_n} \\right )$$\n",
    "\n",
    "\n",
    "The algorithm for Newton’s method follows:\n",
    "\n",
    "- Read x from the user\n",
    "- Initialize guess to x/2 \n",
    "- While guess is not good enough do \n",
    "  - Update guess to be the average of guess and x/guess\n",
    "\n",
    "\n",
    "---\n",
    "\n",
    "**NOTE:**\n",
    "\n",
    "When this algorithm completes, guess contains an approximation of the square\n",
    "root. The quality of the approximation depends on how you define **good enough**. For this exercise' solution, guess can be considered good enough when the absolute value of the difference between `guess x guess` and `x` is less than or equal to $10^{-12}$.\n",
    "\n",
    "---\n"
   ]
  },
  {
   "cell_type": "code",
   "execution_count": null,
   "metadata": {},
   "outputs": [],
   "source": [
    "# %load solutions/square_root.py"
   ]
  },
  {
   "cell_type": "markdown",
   "metadata": {},
   "source": [
    "### Exercise 2: Decimal to Binary\n",
    "\n",
    "Write a program that converts a decimal (base 10) number to binary (base 2). Read the decimal number from the user as an integer and then use the division algorithm shown below to perform the conversion. When the algorithm completes, result contains the binary representation of the number. Display the result, along with an appropriate message.\n",
    "\n",
    "The algorithm works as follows:\n",
    "\n",
    "- Let `result` be an empty string \n",
    "- Let `q` represent the number to convert \n",
    "- **repeat** \n",
    "    - Set `r` equal to the remainder when q is divided by 2 \n",
    "    - Convert `r` to a string and add it to the beginning of `result` \n",
    "    - Divide `q` by 2, discarding any remainder, and store the result back into `q`\n",
    "- **until** `q` is 0"
   ]
  },
  {
   "cell_type": "code",
   "execution_count": null,
   "metadata": {},
   "outputs": [],
   "source": [
    "# %load solutions/decimal_to_binary.py"
   ]
  },
  {
   "cell_type": "markdown",
   "metadata": {},
   "source": [
    "## Lists\n",
    "\n",
    "### Objectives\n",
    "\n",
    "To solve the exercises in this section you should expect to:\n",
    "    \n",
    "- Create a variable that holds a list of values \n",
    "- Modify a list by appending, inserting, updating and deleting elements\n",
    "- Search a list for a value\n",
    "- Display some or all of the values in a list\n",
    "- Write a function that takes a list as a parameter\n",
    "- Write a function that returns a list as its result\n"
   ]
  },
  {
   "cell_type": "markdown",
   "metadata": {},
   "source": [
    "### Exercise: The Sieve of Eratosthenes \n",
    "\n",
    "\n",
    "The Sieve of Eratosthenes is a technique that was developed more than 2,000 years ago to easily find all of the prime numbers between 2 and some limit, say 100. \n",
    "\n",
    "A description of the algorithm follows:\n",
    "\n",
    "- Write down all of the numbers from 0 to the limit \n",
    "- Cross out 0 and 1 because they are not prime\n",
    "\n",
    "- Set p equal to 2 \n",
    "- **While** p is less than the limit **do**\n",
    "  - Cross out all multiples of p (but not p itself) \n",
    "  - Set p equal to the next number in the list that is not crossed out\n",
    "- Report all of the numbers that have not been crossed out as prime \n",
    "\n",
    "\n",
    "---\n",
    "\n",
    "**NOTE:**\n",
    "\n",
    "The key to this algorithm is that it is relatively easy to cross out every nth number on a piece of paper. This is also an easy task for a computer—a for loop can simulate this behavior when a third parameter is provided to the range function. When a number is crossed out, we know that it is no longer prime, but it still occupies space on the piece of paper, and must still be considered when computing later prime numbers. As a result, you should not simulate crossing out a number by removing it from the list. Instead, you should simulate crossing out a number by replacing it with 0. Then, once the algorithm completes, all of the non-zero values in the list are prime. \n",
    "\n",
    "---\n",
    "\n",
    "\n",
    "Create a Python program that uses this algorithm to display all of the prime\n",
    "numbers between 2 and a limit entered by the user. If you implement the algorithm correctly you should be able to display all of the prime numbers less than 1,000,000 in a few seconds."
   ]
  },
  {
   "cell_type": "code",
   "execution_count": null,
   "metadata": {},
   "outputs": [],
   "source": [
    "# %load solutions/sieve.py"
   ]
  },
  {
   "cell_type": "markdown",
   "metadata": {},
   "source": [
    "## Dictionaries\n",
    "\n",
    "Dictionaries are another data structure that Python programmers can use to manage larger amounts of data. \n",
    "\n",
    "Completing the exercises in this section will help you learn to:\n",
    "\n",
    "- Create a new variable that holds a dictionary \n",
    "- Add a key-value pair to a dictionary\n",
    "- Update the value associated with a key in a dictionary \n",
    "- Iterate over all of the keys and/or values in a dictionary\n",
    "- Write functions that take dictionaries as parameters\n",
    "\n",
    "\n",
    "### Exercise: Unique Characters\n",
    "\n",
    "\n",
    "Create a program that determines and displays the number of unique characters in a string entered by the user. For example, `Hello, World!` has 10 unique characters while `zzz` has only one unique character. Use a dictionary or set to solve this problem."
   ]
  },
  {
   "cell_type": "code",
   "execution_count": null,
   "metadata": {},
   "outputs": [],
   "source": [
    "# %load solutions/unique_chars.py"
   ]
  },
  {
   "cell_type": "markdown",
   "metadata": {},
   "source": [
    "## Going Further\n",
    "\n",
    "- [Python General Guide](https://ncar-hackathons.github.io/python-general/intro)\n",
    "- [The Python Tutorial](https://docs.python.org/3/tutorial/index.html)"
   ]
  }
 ],
 "metadata": {
  "kernelspec": {
   "display_name": "Python 3",
   "language": "python",
   "name": "python3"
  },
  "language_info": {
   "codemirror_mode": {
    "name": "ipython",
    "version": 3
   },
   "file_extension": ".py",
   "mimetype": "text/x-python",
   "name": "python",
   "nbconvert_exporter": "python",
   "pygments_lexer": "ipython3",
   "version": "3.6.7"
  }
 },
 "nbformat": 4,
 "nbformat_minor": 2
}
