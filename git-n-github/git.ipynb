{
 "cells": [
  {
   "cell_type": "markdown",
   "metadata": {},
   "source": [
    "![](../images/git-logo.png)\n",
    "# Repositories\n",
    "\n",
    "As we've already mentioned, _repositories_ are the containers for your work, the work\n",
    "you want _tracked_ by Git.  Let's create some work and see what a _repository_ is,\n",
    "in practice."
   ]
  },
  {
   "cell_type": "markdown",
   "metadata": {},
   "source": [
    "## Creating a sample project"
   ]
  },
  {
   "cell_type": "markdown",
   "metadata": {},
   "source": [
    "Let's go to a safe place where we can practice creating a Git repository."
   ]
  },
  {
   "cell_type": "code",
   "execution_count": 1,
   "metadata": {},
   "outputs": [],
   "source": [
    "export TERM=xterm-mono\n",
    "cd"
   ]
  },
  {
   "cell_type": "markdown",
   "metadata": {},
   "source": [
    "(If we have already run this notebook before, let's delete the old project and start over...)"
   ]
  },
  {
   "cell_type": "code",
   "execution_count": 2,
   "metadata": {},
   "outputs": [],
   "source": [
    "if [ -d \"my_project\" ]; then\n",
    "  rm -rf my_project\n",
    "fi"
   ]
  },
  {
   "cell_type": "markdown",
   "metadata": {},
   "source": [
    "Now, let's create a new directory called `my_project` and then add a new text file to it."
   ]
  },
  {
   "cell_type": "code",
   "execution_count": 3,
   "metadata": {},
   "outputs": [],
   "source": [
    "mkdir my_project\n",
    "cd my_project\n",
    "echo \"This is some text.\" > file1.txt"
   ]
  },
  {
   "cell_type": "markdown",
   "metadata": {},
   "source": [
    "Just to be sure we know what we've done, let's see what directory we are currently in."
   ]
  },
  {
   "cell_type": "code",
   "execution_count": 4,
   "metadata": {},
   "outputs": [
    {
     "name": "stdout",
     "output_type": "stream",
     "text": [
      "/Users/kpaul/my_project\n"
     ]
    }
   ],
   "source": [
    "pwd"
   ]
  },
  {
   "cell_type": "markdown",
   "metadata": {},
   "source": [
    "and then let's verify that we created the new `file1.txt`."
   ]
  },
  {
   "cell_type": "code",
   "execution_count": 5,
   "metadata": {},
   "outputs": [
    {
     "name": "stdout",
     "output_type": "stream",
     "text": [
      ".\t\t..\t\tfile1.txt\n"
     ]
    }
   ],
   "source": [
    "ls -a"
   ]
  },
  {
   "cell_type": "markdown",
   "metadata": {},
   "source": [
    "This will be our sample \"project.\""
   ]
  },
  {
   "cell_type": "markdown",
   "metadata": {},
   "source": [
    "## Get ready for Git"
   ]
  },
  {
   "cell_type": "markdown",
   "metadata": {},
   "source": [
    "Before you use Git for the first time, you should make sure it is installed on your system.  We will do so by trying to check the version of Git installed."
   ]
  },
  {
   "cell_type": "code",
   "execution_count": 6,
   "metadata": {},
   "outputs": [
    {
     "name": "stdout",
     "output_type": "stream",
     "text": [
      "git version 2.20.1 (Apple Git-117)\n"
     ]
    }
   ],
   "source": [
    "git --version"
   ]
  },
  {
   "cell_type": "markdown",
   "metadata": {},
   "source": [
    "Next, you should check that your name and email are known by git, so that it can identify you as the author of changes that you commit to the repository."
   ]
  },
  {
   "cell_type": "code",
   "execution_count": 7,
   "metadata": {},
   "outputs": [
    {
     "name": "stdout",
     "output_type": "stream",
     "text": [
      "Kevin Paul\n",
      "kpaul@ucar.edu\n"
     ]
    }
   ],
   "source": [
    "git config --global --get user.name\n",
    "git config --global --get user.email"
   ]
  },
  {
   "cell_type": "markdown",
   "metadata": {},
   "source": [
    "If you don't see 2 lines of text above, or one of the lines is empty, then either your name or email has not been set.  You should set it so that Git can identify you as author of your commits.\n",
    "\n",
    "To set these parameters, execute the following code (with the appropriate changes) in the empty cell below:\n",
    "\n",
    "```bash\n",
    "git config --global user.name \"Your Name\"\n",
    "git config --global user.email you@domain.example.com\n",
    "```"
   ]
  },
  {
   "cell_type": "code",
   "execution_count": null,
   "metadata": {},
   "outputs": [],
   "source": []
  },
  {
   "cell_type": "markdown",
   "metadata": {},
   "source": [
    "## Turn your directory into a repository"
   ]
  },
  {
   "cell_type": "markdown",
   "metadata": {},
   "source": [
    "Now, we can turn on _version-control_ (or enable _tracking_) in our project directory by converting our project directory in a _repository_.  With Git, we do that with the following."
   ]
  },
  {
   "cell_type": "code",
   "execution_count": 8,
   "metadata": {},
   "outputs": [
    {
     "name": "stdout",
     "output_type": "stream",
     "text": [
      "Initialized empty Git repository in /Users/kpaul/my_project/.git/\n"
     ]
    }
   ],
   "source": [
    "git init ."
   ]
  },
  {
   "cell_type": "markdown",
   "metadata": {},
   "source": [
    "Now, notice that a new sub-directory called `.git` has been created in your project directory."
   ]
  },
  {
   "cell_type": "code",
   "execution_count": 9,
   "metadata": {},
   "outputs": [
    {
     "name": "stdout",
     "output_type": "stream",
     "text": [
      ".\t\t..\t\t.git\t\tfile1.txt\n"
     ]
    }
   ],
   "source": [
    "ls -a"
   ]
  },
  {
   "cell_type": "markdown",
   "metadata": {},
   "source": [
    "This new directory contains the _tracked history_ of your Git repository.  ...And yes, your project directory has now become a Git repository!"
   ]
  },
  {
   "cell_type": "markdown",
   "metadata": {},
   "source": [
    "However, even though there is a file in your project directory, the file has not been added to your repository.  You have to do that explicitly.  That is, you can have files or directories in your directory that are not _tracked_ by Git.  In fact, that is the default.  You need to explicitly add these files (or changes to files) to Git."
   ]
  },
  {
   "cell_type": "markdown",
   "metadata": {},
   "source": [
    "Let's look at the status of our new Git repository:"
   ]
  },
  {
   "cell_type": "code",
   "execution_count": 10,
   "metadata": {},
   "outputs": [
    {
     "name": "stdout",
     "output_type": "stream",
     "text": [
      "On branch master\n",
      "\n",
      "No commits yet\n",
      "\n",
      "Untracked files:\n",
      "  (use \"git add <file>...\" to include in what will be committed)\n",
      "\n",
      "\tfile1.txt\n",
      "\n",
      "nothing added to commit but untracked files present (use \"git add\" to track)\n"
     ]
    }
   ],
   "source": [
    "git status"
   ]
  },
  {
   "cell_type": "markdown",
   "metadata": {},
   "source": [
    "This is a great command!  It tells you _a lot_!  So, use it frequently!  Let's see what it tells us:\n",
    "\n",
    "1. It tells us what _branch_ we are on in our repository.  ...What's a _branch_?  We'll get to that in a bit, but for now, think of all of the changes made in your repository being saved to a single, _linear_ history.  And we call that _main_ history the _master branch_.\n",
    "\n",
    "2. It tells you where you are in the history.  Currently, there have been _no changes_ committed to your Git history.  (\"No commits yet\")\n",
    "\n",
    "3. It tells you that there are untracked files that you haven't added to your Git repository, and it tells you which files are untracked.\n",
    "\n",
    "4. It gives you helpful hints about what to do next.  In this case, it tells you to add the untracked files to your Git repository."
   ]
  },
  {
   "cell_type": "markdown",
   "metadata": {},
   "source": [
    "So, let's add our new file to the repository."
   ]
  },
  {
   "cell_type": "code",
   "execution_count": 11,
   "metadata": {},
   "outputs": [],
   "source": [
    "git add file1.txt"
   ]
  },
  {
   "cell_type": "markdown",
   "metadata": {},
   "source": [
    "Great!  We're rolling now!\n",
    "\n",
    "Let's check the status again to see how awesome we are!"
   ]
  },
  {
   "cell_type": "code",
   "execution_count": 12,
   "metadata": {},
   "outputs": [
    {
     "name": "stdout",
     "output_type": "stream",
     "text": [
      "On branch master\n",
      "\n",
      "No commits yet\n",
      "\n",
      "Changes to be committed:\n",
      "  (use \"git rm --cached <file>...\" to unstage)\n",
      "\n",
      "\tnew file:   file1.txt\n",
      "\n"
     ]
    }
   ],
   "source": [
    "git status"
   ]
  },
  {
   "cell_type": "markdown",
   "metadata": {},
   "source": [
    "Hmm.  Ok.  Now the status tells us that we've added the file to our repository (i.e., it is being tracked), but now it needs to be _committed_?\n",
    "\n",
    "Yes.  You've _marked_ the file `file1.txt` to be tracked, and now you need to actually commit the _changes_ to the repository (i.e., the creation of the file and its contents).\n",
    "\n",
    "This is how Git works for _everything_.  What you've just done, in Git terminology, is that you've _staged_ changes to be added to your repository by using `git add`.  However, they don't actually get added to the repository until you actually _commit_ them.\n",
    "\n",
    "**Note:** The status message also tells you that you can _unstage_ your new changes by using `git rm --cached file1.txt`.  That will mark your `file1.txt` file as _not_ to be tracked.\n",
    "\n",
    "So, let's commit our staged changes."
   ]
  },
  {
   "cell_type": "code",
   "execution_count": 13,
   "metadata": {},
   "outputs": [
    {
     "name": "stdout",
     "output_type": "stream",
     "text": [
      "[master (root-commit) 52cc926] Adding file1\n",
      " 1 file changed, 1 insertion(+)\n",
      " create mode 100644 file1.txt\n"
     ]
    }
   ],
   "source": [
    "git commit -m \"Adding file1\""
   ]
  },
  {
   "cell_type": "markdown",
   "metadata": {},
   "source": [
    "And, again with the status..."
   ]
  },
  {
   "cell_type": "code",
   "execution_count": 14,
   "metadata": {},
   "outputs": [
    {
     "name": "stdout",
     "output_type": "stream",
     "text": [
      "On branch master\n",
      "nothing to commit, working tree clean\n"
     ]
    }
   ],
   "source": [
    "git status"
   ]
  },
  {
   "cell_type": "markdown",
   "metadata": {},
   "source": [
    "Now everything in our project directory has been added to our repository."
   ]
  },
  {
   "cell_type": "markdown",
   "metadata": {},
   "source": [
    "**Note:** Above, we used `git commit ... -m \"Commit message\"` syntax.  You do not need to use the `-m` option.  If you leave this option off (along with the commit message), then Git will open your selected text editor indicated by the `core.editor` config option.  You can set the editor that you want to use with:\n",
    "\n",
    "```bash\n",
    "git config --global core.editor [vi | vim | emacs | nano | ...] # Choose your editor!\n",
    "```"
   ]
  },
  {
   "cell_type": "markdown",
   "metadata": {},
   "source": [
    "## Adding changes"
   ]
  },
  {
   "cell_type": "markdown",
   "metadata": {},
   "source": [
    "Obviously, the point of using a VCS like Git, though, is that it tracks changes.  Not just \"saves files.\"  So, we need to make some changes in our repository, stage those changes, and then commit them to the repository.\n",
    "\n",
    "Let's make a couple changes and stage them for addition to the repository."
   ]
  },
  {
   "cell_type": "code",
   "execution_count": 15,
   "metadata": {},
   "outputs": [
    {
     "name": "stdout",
     "output_type": "stream",
     "text": [
      "This is some text.\n",
      "\n",
      "And here's some more text.\n"
     ]
    }
   ],
   "source": [
    "echo \"\" >> file1.txt\n",
    "echo \"And here's some more text.\" >> file1.txt\n",
    "cat file1.txt"
   ]
  },
  {
   "cell_type": "code",
   "execution_count": 16,
   "metadata": {},
   "outputs": [
    {
     "name": "stdout",
     "output_type": "stream",
     "text": [
      "On branch master\n",
      "Changes not staged for commit:\n",
      "  (use \"git add <file>...\" to update what will be committed)\n",
      "  (use \"git checkout -- <file>...\" to discard changes in working directory)\n",
      "\n",
      "\tmodified:   file1.txt\n",
      "\n",
      "no changes added to commit (use \"git add\" and/or \"git commit -a\")\n"
     ]
    }
   ],
   "source": [
    "git status"
   ]
  },
  {
   "cell_type": "markdown",
   "metadata": {},
   "source": [
    "Now, the status tells us that `file1.txt` has been modified.  And you follow the same procedure as before to stage the changes."
   ]
  },
  {
   "cell_type": "code",
   "execution_count": 17,
   "metadata": {},
   "outputs": [],
   "source": [
    "git add file1.txt"
   ]
  },
  {
   "cell_type": "code",
   "execution_count": 18,
   "metadata": {},
   "outputs": [
    {
     "name": "stdout",
     "output_type": "stream",
     "text": [
      "On branch master\n",
      "Changes to be committed:\n",
      "  (use \"git reset HEAD <file>...\" to unstage)\n",
      "\n",
      "\tmodified:   file1.txt\n",
      "\n"
     ]
    }
   ],
   "source": [
    "git status"
   ]
  },
  {
   "cell_type": "markdown",
   "metadata": {},
   "source": [
    "Again, we need to _commit_ these changes to the repository in order to save them.\n",
    "\n",
    "But we're not going to do that just yet.  Let's create another file and stage it for addition to the repository."
   ]
  },
  {
   "cell_type": "code",
   "execution_count": 19,
   "metadata": {},
   "outputs": [],
   "source": [
    "echo \"This is a new file.\" > file2.txt"
   ]
  },
  {
   "cell_type": "code",
   "execution_count": 20,
   "metadata": {},
   "outputs": [],
   "source": [
    "git add file2.txt"
   ]
  },
  {
   "cell_type": "code",
   "execution_count": 21,
   "metadata": {},
   "outputs": [
    {
     "name": "stdout",
     "output_type": "stream",
     "text": [
      "On branch master\n",
      "Changes to be committed:\n",
      "  (use \"git reset HEAD <file>...\" to unstage)\n",
      "\n",
      "\tmodified:   file1.txt\n",
      "\tnew file:   file2.txt\n",
      "\n"
     ]
    }
   ],
   "source": [
    "git status"
   ]
  },
  {
   "cell_type": "markdown",
   "metadata": {},
   "source": [
    "Now, you can see that we have 2 changes that are staged.  And we can commit _both_ of these changes with a single commit, like so:\n",
    "\n",
    "```bash\n",
    "git commit -m \"Modifying file1 and adding file2.\"\n",
    "```\n",
    "\n",
    "But this is actually _bad practice_.  Okay, nobody is going to punish you for doing this, but it is generally considered good practice to give each _independent_ change its own commit.  If the changes that I made to `file1.txt` were related to the addition of `file2.txt`, then I would commit them both with one commit.  And, I probably would use a different commit message referring to the \"higher-level thing\" that I was trying to accomplish.  But, in this case, the two changes are independent, so we _should_ commit them with independent commits.\n",
    "\n",
    "**Note:** A good sign of independent changes is the use of \"and\" in your commit message.  Look for that and stop yourself if you see yourself doing it!\n",
    "\n",
    "...And, interestingly, we can commit them in any order we see fit."
   ]
  },
  {
   "cell_type": "code",
   "execution_count": 22,
   "metadata": {},
   "outputs": [
    {
     "name": "stdout",
     "output_type": "stream",
     "text": [
      "[master f5ee173] Adding file2.\n",
      " 1 file changed, 1 insertion(+)\n",
      " create mode 100644 file2.txt\n"
     ]
    }
   ],
   "source": [
    "git commit file2.txt -m \"Adding file2.\""
   ]
  },
  {
   "cell_type": "code",
   "execution_count": 23,
   "metadata": {},
   "outputs": [
    {
     "name": "stdout",
     "output_type": "stream",
     "text": [
      "On branch master\n",
      "Changes to be committed:\n",
      "  (use \"git reset HEAD <file>...\" to unstage)\n",
      "\n",
      "\tmodified:   file1.txt\n",
      "\n"
     ]
    }
   ],
   "source": [
    "git status"
   ]
  },
  {
   "cell_type": "code",
   "execution_count": 24,
   "metadata": {},
   "outputs": [
    {
     "name": "stdout",
     "output_type": "stream",
     "text": [
      "[master 8ab55cd] Modifying file1.\n",
      " 1 file changed, 2 insertions(+)\n"
     ]
    }
   ],
   "source": [
    "git commit file1.txt -m \"Modifying file1.\""
   ]
  },
  {
   "cell_type": "code",
   "execution_count": 25,
   "metadata": {},
   "outputs": [
    {
     "name": "stdout",
     "output_type": "stream",
     "text": [
      "On branch master\n",
      "nothing to commit, working tree clean\n"
     ]
    }
   ],
   "source": [
    "git status"
   ]
  },
  {
   "cell_type": "markdown",
   "metadata": {},
   "source": [
    "And that's it.  Even though we actually performed the changes in a different order, we committed them in the order we chose.  They were independent changes, so it didn't matter."
   ]
  },
  {
   "cell_type": "markdown",
   "metadata": {},
   "source": [
    "## Looking at the history"
   ]
  },
  {
   "cell_type": "markdown",
   "metadata": {},
   "source": [
    "All of the changes that you've committed to your repository can be listed with the `git log` command."
   ]
  },
  {
   "cell_type": "code",
   "execution_count": 26,
   "metadata": {},
   "outputs": [
    {
     "name": "stdout",
     "output_type": "stream",
     "text": [
      "commit 8ab55cdd3933383972a92bca1c2f1f4e7af9829b (HEAD -> master)\n",
      "Author: Kevin Paul <kpaul@ucar.edu>\n",
      "Date:   Wed May 29 16:03:16 2019 -0600\n",
      "\n",
      "    Modifying file1.\n",
      "\n",
      "commit f5ee1732f34eca098efc7550a4e42bdf66256c41\n",
      "Author: Kevin Paul <kpaul@ucar.edu>\n",
      "Date:   Wed May 29 16:03:16 2019 -0600\n",
      "\n",
      "    Adding file2.\n",
      "\n",
      "commit 52cc92655732d75164702ad87583f89ca7f7e093\n",
      "Author: Kevin Paul <kpaul@ucar.edu>\n",
      "Date:   Wed May 29 16:03:11 2019 -0600\n",
      "\n",
      "    Adding file1\n"
     ]
    }
   ],
   "source": [
    "git log"
   ]
  },
  {
   "cell_type": "markdown",
   "metadata": {},
   "source": [
    "And you can see that the latest commit is listed first, and the rest listed in reverse chronological order.  The random characters following the `commit` text are the _unique hash_ identifying the commit.  You can specify commits using this _hash_ string, or just the first characters of the hash that uniquely identify it.\n",
    "\n",
    "Also, under each commit's information (Author, Date) it lists the commit message."
   ]
  },
  {
   "cell_type": "markdown",
   "metadata": {},
   "source": [
    "If the history gets long, it can be nice to print the history in a more \"dense\" format."
   ]
  },
  {
   "cell_type": "code",
   "execution_count": 27,
   "metadata": {},
   "outputs": [
    {
     "name": "stdout",
     "output_type": "stream",
     "text": [
      "8ab55cd (HEAD -> master) Modifying file1.\n",
      "f5ee173 Adding file2.\n",
      "52cc926 Adding file1\n"
     ]
    }
   ],
   "source": [
    "git log --oneline"
   ]
  },
  {
   "cell_type": "markdown",
   "metadata": {},
   "source": [
    "You can also get just the history of a particular file (or directory) in your repository."
   ]
  },
  {
   "cell_type": "code",
   "execution_count": 28,
   "metadata": {},
   "outputs": [
    {
     "name": "stdout",
     "output_type": "stream",
     "text": [
      "commit 8ab55cdd3933383972a92bca1c2f1f4e7af9829b (HEAD -> master)\n",
      "Author: Kevin Paul <kpaul@ucar.edu>\n",
      "Date:   Wed May 29 16:03:16 2019 -0600\n",
      "\n",
      "    Modifying file1.\n",
      "\n",
      "commit 52cc92655732d75164702ad87583f89ca7f7e093\n",
      "Author: Kevin Paul <kpaul@ucar.edu>\n",
      "Date:   Wed May 29 16:03:11 2019 -0600\n",
      "\n",
      "    Adding file1\n"
     ]
    }
   ],
   "source": [
    "git log file1.txt"
   ]
  },
  {
   "cell_type": "markdown",
   "metadata": {},
   "source": [
    "There are _lots_ of ways of using `git log` and I recommend looking around online or in the help for tips.\n",
    "\n",
    "```bash\n",
    "git log --help\n",
    "```"
   ]
  },
  {
   "cell_type": "markdown",
   "metadata": {},
   "source": [
    "## Rewinding to the past"
   ]
  },
  {
   "cell_type": "markdown",
   "metadata": {},
   "source": [
    "We can \"rewind\" our repository back to any point in the history.  To do this, we just look at the commit hash and do a `git checkout`.\n",
    "\n",
    "Find the commit hash for the commit with the message `Adding file1`.  (We'll use a neat feature of `git log` to do this for us.)"
   ]
  },
  {
   "cell_type": "code",
   "execution_count": 29,
   "metadata": {},
   "outputs": [
    {
     "name": "stdout",
     "output_type": "stream",
     "text": [
      "commit 52cc92655732d75164702ad87583f89ca7f7e093\n",
      "Author: Kevin Paul <kpaul@ucar.edu>\n",
      "Date:   Wed May 29 16:03:11 2019 -0600\n",
      "\n",
      "    Adding file1\n"
     ]
    }
   ],
   "source": [
    "git log --all --grep='Adding file1'"
   ]
  },
  {
   "cell_type": "markdown",
   "metadata": {},
   "source": [
    "Now, select the 1st 6 characters from the commit hash and use it in the `git checkout` command below:"
   ]
  },
  {
   "cell_type": "code",
   "execution_count": 31,
   "metadata": {},
   "outputs": [
    {
     "name": "stdout",
     "output_type": "stream",
     "text": [
      "Note: checking out '52cc92'.\n",
      "\n",
      "You are in 'detached HEAD' state. You can look around, make experimental\n",
      "changes and commit them, and you can discard any commits you make in this\n",
      "state without impacting any branches by performing another checkout.\n",
      "\n",
      "If you want to create a new branch to retain commits you create, you may\n",
      "do so (now or later) by using -b with the checkout command again. Example:\n",
      "\n",
      "  git checkout -b <new-branch-name>\n",
      "\n",
      "HEAD is now at 52cc926 Adding file1\n"
     ]
    }
   ],
   "source": [
    "git checkout 52cc92"
   ]
  },
  {
   "cell_type": "code",
   "execution_count": 32,
   "metadata": {},
   "outputs": [
    {
     "name": "stdout",
     "output_type": "stream",
     "text": [
      ".\t\t..\t\t.git\t\tfile1.txt\n"
     ]
    }
   ],
   "source": [
    "ls -a"
   ]
  },
  {
   "cell_type": "code",
   "execution_count": 33,
   "metadata": {},
   "outputs": [
    {
     "name": "stdout",
     "output_type": "stream",
     "text": [
      "This is some text.\n"
     ]
    }
   ],
   "source": [
    "cat file1.txt"
   ]
  },
  {
   "cell_type": "markdown",
   "metadata": {},
   "source": [
    "And now we are back to the point in our repository after we first created `file1.txt`!\n",
    "\n",
    "Note that after the `checkout`, we received a message saying we are in \"detached HEAD\" state.  This means that we cannot make and commits at this point in the history.  (In other words, we cannot _simple_ insert commits into the middle of an existing history.  We can only add them at the end.)\n",
    "\n",
    "**Note:** Actually, Git _does_ let you insert commits, but it is very complicated and beyond the scope of this tutorial.\n",
    "\n",
    "To get back to the present (i.e., the \"HEAD\") we do:"
   ]
  },
  {
   "cell_type": "code",
   "execution_count": 34,
   "metadata": {},
   "outputs": [
    {
     "name": "stdout",
     "output_type": "stream",
     "text": [
      "Previous HEAD position was 52cc926 Adding file1\n",
      "Switched to branch 'master'\n"
     ]
    }
   ],
   "source": [
    "git checkout master"
   ]
  },
  {
   "cell_type": "code",
   "execution_count": 35,
   "metadata": {},
   "outputs": [
    {
     "name": "stdout",
     "output_type": "stream",
     "text": [
      "On branch master\n",
      "nothing to commit, working tree clean\n"
     ]
    }
   ],
   "source": [
    "git status"
   ]
  },
  {
   "cell_type": "code",
   "execution_count": 36,
   "metadata": {},
   "outputs": [
    {
     "name": "stdout",
     "output_type": "stream",
     "text": [
      ".\t\t..\t\t.git\t\tfile1.txt\tfile2.txt\n"
     ]
    }
   ],
   "source": [
    "ls -a"
   ]
  },
  {
   "cell_type": "markdown",
   "metadata": {},
   "source": [
    "![](../images/git-logo.png)\n",
    "# Branches"
   ]
  },
  {
   "cell_type": "markdown",
   "metadata": {},
   "source": [
    "As promised, I said I would get back to the cryptic comment in the `git status` saying `On branch master`.  Well, here's the point where I deliver on my promise.\n",
    "\n",
    "Your repository can save multiple histories.  Like alternate timelines from some episode of Star Trek, you can store different sequences of changes in different branches.\n",
    "\n",
    "If you haven't run the previous Repositories section, then let's get back to our sample project repository."
   ]
  },
  {
   "cell_type": "code",
   "execution_count": 1,
   "metadata": {},
   "outputs": [],
   "source": [
    "export TERM=xterm-mono\n",
    "cd ~/my_project"
   ]
  },
  {
   "cell_type": "markdown",
   "metadata": {},
   "source": [
    "**Note:** If you get an error here, go back to the previous section (\"Repositories\") and create the sample repository following that notebook.\n",
    "\n",
    "Now, let's create a `feature` branch."
   ]
  },
  {
   "cell_type": "code",
   "execution_count": 2,
   "metadata": {},
   "outputs": [],
   "source": [
    "git branch feature"
   ]
  },
  {
   "cell_type": "code",
   "execution_count": 3,
   "metadata": {},
   "outputs": [
    {
     "name": "stdout",
     "output_type": "stream",
     "text": [
      "On branch master\n",
      "nothing to commit, working tree clean\n"
     ]
    }
   ],
   "source": [
    "git status"
   ]
  },
  {
   "cell_type": "markdown",
   "metadata": {},
   "source": [
    "Note that we are still on the `master` branch, though!  To change to the new branch we just created, you need to use `git checkout`."
   ]
  },
  {
   "cell_type": "code",
   "execution_count": 4,
   "metadata": {},
   "outputs": [
    {
     "name": "stdout",
     "output_type": "stream",
     "text": [
      "Switched to branch 'feature'\n"
     ]
    }
   ],
   "source": [
    "git checkout feature"
   ]
  },
  {
   "cell_type": "code",
   "execution_count": 5,
   "metadata": {},
   "outputs": [
    {
     "name": "stdout",
     "output_type": "stream",
     "text": [
      "On branch feature\n",
      "nothing to commit, working tree clean\n"
     ]
    }
   ],
   "source": [
    "git status"
   ]
  },
  {
   "cell_type": "markdown",
   "metadata": {},
   "source": [
    "Now, let's add a new file in this branch."
   ]
  },
  {
   "cell_type": "code",
   "execution_count": 6,
   "metadata": {},
   "outputs": [],
   "source": [
    "echo \"And another file.\" > file3.txt"
   ]
  },
  {
   "cell_type": "markdown",
   "metadata": {},
   "source": [
    "And we stage and commit this new file to this branch."
   ]
  },
  {
   "cell_type": "code",
   "execution_count": 7,
   "metadata": {},
   "outputs": [
    {
     "name": "stdout",
     "output_type": "stream",
     "text": [
      "[feature cdcb791] Adding file3.\n",
      " 1 file changed, 1 insertion(+)\n",
      " create mode 100644 file3.txt\n"
     ]
    }
   ],
   "source": [
    "git add file3.txt\n",
    "git commit -m \"Adding file3.\""
   ]
  },
  {
   "cell_type": "code",
   "execution_count": 8,
   "metadata": {},
   "outputs": [
    {
     "name": "stdout",
     "output_type": "stream",
     "text": [
      "On branch feature\n",
      "nothing to commit, working tree clean\n"
     ]
    }
   ],
   "source": [
    "git status"
   ]
  },
  {
   "cell_type": "code",
   "execution_count": 9,
   "metadata": {},
   "outputs": [
    {
     "name": "stdout",
     "output_type": "stream",
     "text": [
      "cdcb791 (HEAD -> feature) Adding file3.\n",
      "8ab55cd (master) Modifying file1.\n",
      "f5ee173 Adding file2.\n",
      "52cc926 Adding file1\n"
     ]
    }
   ],
   "source": [
    "git log --oneline"
   ]
  },
  {
   "cell_type": "markdown",
   "metadata": {},
   "source": [
    "Now, let's switch back to our `master` branch."
   ]
  },
  {
   "cell_type": "code",
   "execution_count": 10,
   "metadata": {},
   "outputs": [
    {
     "name": "stdout",
     "output_type": "stream",
     "text": [
      "Switched to branch 'master'\n"
     ]
    }
   ],
   "source": [
    "git checkout master"
   ]
  },
  {
   "cell_type": "code",
   "execution_count": 11,
   "metadata": {},
   "outputs": [
    {
     "name": "stdout",
     "output_type": "stream",
     "text": [
      "8ab55cd (HEAD -> master) Modifying file1.\n",
      "f5ee173 Adding file2.\n",
      "52cc926 Adding file1\n"
     ]
    }
   ],
   "source": [
    "git log --oneline"
   ]
  },
  {
   "cell_type": "markdown",
   "metadata": {},
   "source": [
    "Notice that our latest commit doesn't show up!  It was only in our `feature` branch.\n",
    "\n",
    "Look in your directory, too."
   ]
  },
  {
   "cell_type": "code",
   "execution_count": 12,
   "metadata": {},
   "outputs": [
    {
     "name": "stdout",
     "output_type": "stream",
     "text": [
      ".\t\t..\t\t.git\t\tfile1.txt\tfile2.txt\n"
     ]
    }
   ],
   "source": [
    "ls -a"
   ]
  },
  {
   "cell_type": "markdown",
   "metadata": {},
   "source": [
    "Notice that `file3.txt` doesn't exist!  How do we get it back?  Switch back to the `feature` branch."
   ]
  },
  {
   "cell_type": "code",
   "execution_count": 13,
   "metadata": {},
   "outputs": [
    {
     "name": "stdout",
     "output_type": "stream",
     "text": [
      "Switched to branch 'feature'\n"
     ]
    }
   ],
   "source": [
    "git checkout feature"
   ]
  },
  {
   "cell_type": "code",
   "execution_count": 14,
   "metadata": {},
   "outputs": [
    {
     "name": "stdout",
     "output_type": "stream",
     "text": [
      ".\t\t.git\t\tfile2.txt\n",
      "..\t\tfile1.txt\tfile3.txt\n"
     ]
    }
   ],
   "source": [
    "ls -a"
   ]
  },
  {
   "cell_type": "markdown",
   "metadata": {},
   "source": [
    "And it's back!\n",
    "\n",
    "Now, let's add a change to the `master` branch."
   ]
  },
  {
   "cell_type": "code",
   "execution_count": 15,
   "metadata": {},
   "outputs": [
    {
     "name": "stdout",
     "output_type": "stream",
     "text": [
      "Switched to branch 'master'\n"
     ]
    }
   ],
   "source": [
    "git checkout master"
   ]
  },
  {
   "cell_type": "code",
   "execution_count": 16,
   "metadata": {},
   "outputs": [],
   "source": [
    "echo \"Some more text.\" >> file2.txt"
   ]
  },
  {
   "cell_type": "code",
   "execution_count": 17,
   "metadata": {},
   "outputs": [
    {
     "name": "stdout",
     "output_type": "stream",
     "text": [
      "[master f4dd054] Modifying file2.\n",
      " 1 file changed, 1 insertion(+)\n"
     ]
    }
   ],
   "source": [
    "git add file2.txt\n",
    "git commit -m \"Modifying file2.\""
   ]
  },
  {
   "cell_type": "code",
   "execution_count": 18,
   "metadata": {},
   "outputs": [
    {
     "name": "stdout",
     "output_type": "stream",
     "text": [
      "On branch master\n",
      "nothing to commit, working tree clean\n"
     ]
    }
   ],
   "source": [
    "git status"
   ]
  },
  {
   "cell_type": "code",
   "execution_count": 19,
   "metadata": {},
   "outputs": [
    {
     "name": "stdout",
     "output_type": "stream",
     "text": [
      "f4dd054 (HEAD -> master) Modifying file2.\n",
      "8ab55cd Modifying file1.\n",
      "f5ee173 Adding file2.\n",
      "52cc926 Adding file1\n"
     ]
    }
   ],
   "source": [
    "git log --oneline"
   ]
  },
  {
   "cell_type": "markdown",
   "metadata": {},
   "source": [
    "So, now we have 2 branchs, and each branch shares the first 3 commits in common, but each branch has a different commit added at the \"end.\"  "
   ]
  },
  {
   "cell_type": "markdown",
   "metadata": {},
   "source": [
    "## Merging"
   ]
  },
  {
   "cell_type": "markdown",
   "metadata": {},
   "source": [
    "These two branches can continue to develop independently from each other for as long as your like.  However, usually the point of having a branch is because you intend the other branch's changes to get merged back into the `master` branch, at some point.  It's like following 2 independent thought processes to their natural conclusion, making a decision, and then choosing the process (branch) that you want to use and _merging_ it into your process.  ...If that makes sense."
   ]
  },
  {
   "cell_type": "markdown",
   "metadata": {},
   "source": [
    "Let's merge our `feature` branch into our `master` branch.\n",
    "\n",
    "To do this, we need to be in the `master` branch, _where we want the new commits to be merged_."
   ]
  },
  {
   "cell_type": "code",
   "execution_count": 20,
   "metadata": {},
   "outputs": [
    {
     "name": "stdout",
     "output_type": "stream",
     "text": [
      "Already on 'master'\n"
     ]
    }
   ],
   "source": [
    "git checkout master"
   ]
  },
  {
   "cell_type": "markdown",
   "metadata": {},
   "source": [
    "Now, we need to merge _from_ the `feature` branch."
   ]
  },
  {
   "cell_type": "code",
   "execution_count": 21,
   "metadata": {},
   "outputs": [
    {
     "name": "stdout",
     "output_type": "stream",
     "text": [
      "Merge made by the 'recursive' strategy.\n",
      " file3.txt | 1 +\n",
      " 1 file changed, 1 insertion(+)\n",
      " create mode 100644 file3.txt\n"
     ]
    }
   ],
   "source": [
    "git merge feature -m \"Merging feature into master.\""
   ]
  },
  {
   "cell_type": "code",
   "execution_count": 22,
   "metadata": {},
   "outputs": [
    {
     "name": "stdout",
     "output_type": "stream",
     "text": [
      "On branch master\n",
      "nothing to commit, working tree clean\n"
     ]
    }
   ],
   "source": [
    "git status"
   ]
  },
  {
   "cell_type": "code",
   "execution_count": 23,
   "metadata": {},
   "outputs": [
    {
     "name": "stdout",
     "output_type": "stream",
     "text": [
      ".\t\t.git\t\tfile2.txt\n",
      "..\t\tfile1.txt\tfile3.txt\n"
     ]
    }
   ],
   "source": [
    "ls -a"
   ]
  },
  {
   "cell_type": "code",
   "execution_count": 24,
   "metadata": {},
   "outputs": [
    {
     "name": "stdout",
     "output_type": "stream",
     "text": [
      "And another file.\n"
     ]
    }
   ],
   "source": [
    "cat file3.txt"
   ]
  },
  {
   "cell_type": "code",
   "execution_count": 25,
   "metadata": {},
   "outputs": [
    {
     "name": "stdout",
     "output_type": "stream",
     "text": [
      "This is a new file.\n",
      "Some more text.\n"
     ]
    }
   ],
   "source": [
    "cat file2.txt"
   ]
  },
  {
   "cell_type": "markdown",
   "metadata": {},
   "source": [
    "And now you can see we have all of the changes we made to the `feature` branch in our `master` branch, and all of the changes that were _only_ in our `master` branch are still there.\n",
    "\n",
    "Let's look at the history of our `master` branch, now."
   ]
  },
  {
   "cell_type": "code",
   "execution_count": 26,
   "metadata": {},
   "outputs": [
    {
     "name": "stdout",
     "output_type": "stream",
     "text": [
      "5b75c02 (HEAD -> master) Merging feature into master.\n",
      "f4dd054 Modifying file2.\n",
      "cdcb791 (feature) Adding file3.\n",
      "8ab55cd Modifying file1.\n",
      "f5ee173 Adding file2.\n",
      "52cc926 Adding file1\n"
     ]
    }
   ],
   "source": [
    "git log --oneline"
   ]
  },
  {
   "cell_type": "markdown",
   "metadata": {},
   "source": [
    "Notice that the 4th commit (`Adding file3.`) also indicates that it came from the `feature` branch, even though we are looking at the history of the `master` branch."
   ]
  },
  {
   "cell_type": "markdown",
   "metadata": {},
   "source": [
    "## Deleting branches"
   ]
  },
  {
   "cell_type": "markdown",
   "metadata": {},
   "source": [
    "Now that our `feature` branch has been merged into `master`, it is usually good practice to delete it.  You actually don't have to delete this branch, but usual practice is to only keep _active_ branches around.  Otherwise, you run the risk of your repo behind hard for new users to parse and figure out.\n",
    "\n",
    "To delete the `feature` branch, we use the `-d` option to `git branch`:"
   ]
  },
  {
   "cell_type": "code",
   "execution_count": 27,
   "metadata": {},
   "outputs": [
    {
     "name": "stdout",
     "output_type": "stream",
     "text": [
      "  feature\n",
      "* master\n"
     ]
    }
   ],
   "source": [
    "git branch"
   ]
  },
  {
   "cell_type": "code",
   "execution_count": 28,
   "metadata": {},
   "outputs": [
    {
     "name": "stdout",
     "output_type": "stream",
     "text": [
      "Deleted branch feature (was cdcb791).\n"
     ]
    }
   ],
   "source": [
    "git branch -d feature"
   ]
  },
  {
   "cell_type": "code",
   "execution_count": 29,
   "metadata": {},
   "outputs": [
    {
     "name": "stdout",
     "output_type": "stream",
     "text": [
      "* master\n"
     ]
    }
   ],
   "source": [
    "git branch"
   ]
  },
  {
   "cell_type": "markdown",
   "metadata": {},
   "source": [
    "Now, what happens to the commit history now that we deleted the branch?"
   ]
  },
  {
   "cell_type": "code",
   "execution_count": 30,
   "metadata": {},
   "outputs": [
    {
     "name": "stdout",
     "output_type": "stream",
     "text": [
      "5b75c02 (HEAD -> master) Merging feature into master.\n",
      "f4dd054 Modifying file2.\n",
      "cdcb791 Adding file3.\n",
      "8ab55cd Modifying file1.\n",
      "f5ee173 Adding file2.\n",
      "52cc926 Adding file1\n"
     ]
    }
   ],
   "source": [
    "git log --oneline"
   ]
  },
  {
   "cell_type": "markdown",
   "metadata": {},
   "source": [
    "Notice that the commit log is the same, except that knowledge that the 4th commit came from the `feature` branch has now been lost (but the commit has not)."
   ]
  },
  {
   "cell_type": "markdown",
   "metadata": {},
   "source": [
    "![](../images/git-logo.png)\n",
    "# Conflicts"
   ]
  },
  {
   "cell_type": "markdown",
   "metadata": {},
   "source": [
    "If you are dealing with multiple branches, you can start to run into situations where a change to a file in one branch actually _conflicts_ with changes to a file in another branch.  When you merge these two branches together, you will likely get conflicts that need to be fixed before your can finish the merge.\n",
    "\n",
    "Let's get back to our sample repository:"
   ]
  },
  {
   "cell_type": "code",
   "execution_count": 1,
   "metadata": {},
   "outputs": [],
   "source": [
    "cd ~/my_project"
   ]
  },
  {
   "cell_type": "markdown",
   "metadata": {},
   "source": [
    "And let's create a \"problematic\" branch were we will place conflicting changes."
   ]
  },
  {
   "cell_type": "code",
   "execution_count": 2,
   "metadata": {},
   "outputs": [],
   "source": [
    "git branch problem"
   ]
  },
  {
   "cell_type": "code",
   "execution_count": 3,
   "metadata": {},
   "outputs": [
    {
     "name": "stdout",
     "output_type": "stream",
     "text": [
      "* master\n",
      "  problem\n"
     ]
    }
   ],
   "source": [
    "git branch"
   ]
  },
  {
   "cell_type": "code",
   "execution_count": 4,
   "metadata": {},
   "outputs": [
    {
     "name": "stdout",
     "output_type": "stream",
     "text": [
      "Switched to branch 'problem'\n"
     ]
    }
   ],
   "source": [
    "git checkout problem"
   ]
  },
  {
   "cell_type": "markdown",
   "metadata": {},
   "source": [
    "Let's make a change to `file1.txt`."
   ]
  },
  {
   "cell_type": "code",
   "execution_count": 5,
   "metadata": {},
   "outputs": [],
   "source": [
    "echo 'THIS IS GOING TO BE A PROBLEM!' >> file1.txt"
   ]
  },
  {
   "cell_type": "code",
   "execution_count": 6,
   "metadata": {},
   "outputs": [
    {
     "name": "stdout",
     "output_type": "stream",
     "text": [
      "This is some text.\n",
      "\n",
      "And here's some more text.\n",
      "THIS IS GOING TO BE A PROBLEM!\n"
     ]
    }
   ],
   "source": [
    "cat file1.txt"
   ]
  },
  {
   "cell_type": "markdown",
   "metadata": {},
   "source": [
    "Let's stage and commit this change."
   ]
  },
  {
   "cell_type": "code",
   "execution_count": 7,
   "metadata": {},
   "outputs": [
    {
     "name": "stdout",
     "output_type": "stream",
     "text": [
      "[problem bc61ebd] Making problems in file1\n",
      " 1 file changed, 1 insertion(+)\n"
     ]
    }
   ],
   "source": [
    "git add file1.txt\n",
    "git commit -m \"Making problems in file1\""
   ]
  },
  {
   "cell_type": "markdown",
   "metadata": {},
   "source": [
    "Now, let's switch back to our `master` branch and make a change to `file1.txt` there."
   ]
  },
  {
   "cell_type": "code",
   "execution_count": 8,
   "metadata": {},
   "outputs": [
    {
     "name": "stdout",
     "output_type": "stream",
     "text": [
      "Switched to branch 'master'\n"
     ]
    }
   ],
   "source": [
    "git checkout master"
   ]
  },
  {
   "cell_type": "code",
   "execution_count": 9,
   "metadata": {},
   "outputs": [
    {
     "name": "stdout",
     "output_type": "stream",
     "text": [
      "This is some text.\n",
      "\n",
      "And here's some more text.\n",
      "I want this change in file1.\n"
     ]
    }
   ],
   "source": [
    "echo 'I want this change in file1.' >> file1.txt\n",
    "cat file1.txt"
   ]
  },
  {
   "cell_type": "markdown",
   "metadata": {},
   "source": [
    "And let's stage and commit this change."
   ]
  },
  {
   "cell_type": "code",
   "execution_count": 10,
   "metadata": {},
   "outputs": [
    {
     "name": "stdout",
     "output_type": "stream",
     "text": [
      "[master e814389] This is an innocent change.\n",
      " 1 file changed, 1 insertion(+)\n"
     ]
    }
   ],
   "source": [
    "git add file1.txt\n",
    "git commit -m \"This is an innocent change.\""
   ]
  },
  {
   "cell_type": "markdown",
   "metadata": {},
   "source": [
    "Now, we have 2 changes to the same file, so when we try to merge the `problem` branch into `master`, Git won't know which commit to use, or in which order to apply the changes.  So, it just fails!"
   ]
  },
  {
   "cell_type": "code",
   "execution_count": 11,
   "metadata": {},
   "outputs": [
    {
     "name": "stdout",
     "output_type": "stream",
     "text": [
      "Auto-merging file1.txt\n",
      "CONFLICT (content): Merge conflict in file1.txt\n",
      "Automatic merge failed; fix conflicts and then commit the result.\n"
     ]
    },
    {
     "ename": "",
     "evalue": "1",
     "execution_count": 11,
     "output_type": "error",
     "traceback": []
    }
   ],
   "source": [
    "git merge problem -m \"Trying to merge my problem.\""
   ]
  },
  {
   "cell_type": "markdown",
   "metadata": {},
   "source": [
    "Now, look at `file1.txt`."
   ]
  },
  {
   "cell_type": "code",
   "execution_count": 12,
   "metadata": {},
   "outputs": [
    {
     "name": "stdout",
     "output_type": "stream",
     "text": [
      "This is some text.\n",
      "\n",
      "And here's some more text.\n",
      "<<<<<<< HEAD\n",
      "I want this change in file1.\n",
      "=======\n",
      "THIS IS GOING TO BE A PROBLEM!\n",
      ">>>>>>> problem\n"
     ]
    }
   ],
   "source": [
    "cat file1.txt"
   ]
  },
  {
   "cell_type": "markdown",
   "metadata": {},
   "source": [
    "You can see that the problematic file (`file1.txt`) has been marked with the conflicting lines.\n",
    "\n",
    "Also, look at what the status now is."
   ]
  },
  {
   "cell_type": "code",
   "execution_count": 13,
   "metadata": {},
   "outputs": [
    {
     "name": "stdout",
     "output_type": "stream",
     "text": [
      "On branch master\n",
      "You have unmerged paths.\n",
      "  (fix conflicts and run \"git commit\")\n",
      "  (use \"git merge --abort\" to abort the merge)\n",
      "\n",
      "Unmerged paths:\n",
      "  (use \"git add <file>...\" to mark resolution)\n",
      "\n",
      "\tboth modified:   file1.txt\n",
      "\n",
      "no changes added to commit (use \"git add\" and/or \"git commit -a\")\n"
     ]
    }
   ],
   "source": [
    "git status"
   ]
  },
  {
   "cell_type": "markdown",
   "metadata": {},
   "source": [
    "This message is basically telling you that you are in the middle of a merge and the \"Unmerged paths\" are where your conflicts exist.  So, let's fix the conflicts.\n",
    "\n",
    "In this case, I am going to change `file1.txt` to be what I actually want it to be."
   ]
  },
  {
   "cell_type": "code",
   "execution_count": 14,
   "metadata": {},
   "outputs": [],
   "source": [
    "echo \"This is some text.\" > file1.txt\n",
    "echo \"\" >> file1.txt\n",
    "echo \"And here's some more text.\" >> file1.txt\n",
    "echo \"\" >> file1.txt\n",
    "echo \"I want this change in file1.\" >> file1.txt"
   ]
  },
  {
   "cell_type": "code",
   "execution_count": 15,
   "metadata": {},
   "outputs": [
    {
     "name": "stdout",
     "output_type": "stream",
     "text": [
      "This is some text.\n",
      "\n",
      "And here's some more text.\n",
      "\n",
      "I want this change in file1.\n"
     ]
    }
   ],
   "source": [
    "cat file1.txt"
   ]
  },
  {
   "cell_type": "markdown",
   "metadata": {},
   "source": [
    "And note that the status hasn't changed!"
   ]
  },
  {
   "cell_type": "code",
   "execution_count": 16,
   "metadata": {},
   "outputs": [
    {
     "name": "stdout",
     "output_type": "stream",
     "text": [
      "On branch master\n",
      "You have unmerged paths.\n",
      "  (fix conflicts and run \"git commit\")\n",
      "  (use \"git merge --abort\" to abort the merge)\n",
      "\n",
      "Unmerged paths:\n",
      "  (use \"git add <file>...\" to mark resolution)\n",
      "\n",
      "\tboth modified:   file1.txt\n",
      "\n",
      "no changes added to commit (use \"git add\" and/or \"git commit -a\")\n"
     ]
    }
   ],
   "source": [
    "git status"
   ]
  },
  {
   "cell_type": "markdown",
   "metadata": {},
   "source": [
    "We have to stage the changes we made and then commit them in order to finish the commit."
   ]
  },
  {
   "cell_type": "code",
   "execution_count": 17,
   "metadata": {},
   "outputs": [
    {
     "name": "stdout",
     "output_type": "stream",
     "text": [
      "[master c93eb6a] Fixing conflict in file1\n"
     ]
    }
   ],
   "source": [
    "git add file1.txt\n",
    "git commit -m \"Fixing conflict in file1\""
   ]
  },
  {
   "cell_type": "code",
   "execution_count": 18,
   "metadata": {},
   "outputs": [
    {
     "name": "stdout",
     "output_type": "stream",
     "text": [
      "On branch master\n",
      "nothing to commit, working tree clean\n"
     ]
    }
   ],
   "source": [
    "git status"
   ]
  },
  {
   "cell_type": "markdown",
   "metadata": {},
   "source": [
    "And we're done!  Look at the commit logs and see what happened."
   ]
  },
  {
   "cell_type": "code",
   "execution_count": 19,
   "metadata": {},
   "outputs": [
    {
     "name": "stdout",
     "output_type": "stream",
     "text": [
      "c93eb6a (HEAD -> master) Fixing conflict in file1\n",
      "e814389 This is an innocent change.\n",
      "bc61ebd (problem) Making problems in file1\n",
      "5b75c02 Merging feature into master.\n",
      "f4dd054 Modifying file2.\n",
      "cdcb791 Adding file3.\n",
      "8ab55cd Modifying file1.\n",
      "f5ee173 Adding file2.\n",
      "52cc926 Adding file1\n"
     ]
    }
   ],
   "source": [
    "git log --oneline"
   ]
  },
  {
   "cell_type": "markdown",
   "metadata": {},
   "source": [
    "All of the changes are there!  Even the bad ones, and the fix that made it all work.\n",
    "\n",
    "Now that we have merged `problem` into `master`, and fixed all of the changes, let's delete the `problem` branch."
   ]
  },
  {
   "cell_type": "code",
   "execution_count": 20,
   "metadata": {},
   "outputs": [
    {
     "name": "stdout",
     "output_type": "stream",
     "text": [
      "* master\n",
      "  problem\n"
     ]
    }
   ],
   "source": [
    "git branch"
   ]
  },
  {
   "cell_type": "code",
   "execution_count": 21,
   "metadata": {},
   "outputs": [
    {
     "name": "stdout",
     "output_type": "stream",
     "text": [
      "Deleted branch problem (was bc61ebd).\n"
     ]
    }
   ],
   "source": [
    "git branch -d problem"
   ]
  },
  {
   "cell_type": "markdown",
   "metadata": {},
   "source": [
    "![](../images/git-logo.png)\n",
    "# Clones"
   ]
  },
  {
   "cell_type": "markdown",
   "metadata": {},
   "source": [
    "As I mentioned in the start of this section, I said that Git was a _distributed_ VCS, and I used the word _distributed_ as opposed to _centralized_ to mean that Git does not assume a centralized server hosting your Git repository.  That means that every \"copy\" of a Git repository is a self-sufficient repository of its own.\n",
    "\n",
    "However, a simple _copy_ is probably not what you want.  The advantage of using a _distributed_ VCS is that you can `push` (`pull`) changes to (from) another repository.  In fact, you can set a copy of one repository to `pull` changes from one repository and `push` changes to a different copy, or vice versa.\n",
    "\n",
    "Let's take a look at a simple way to copy a repository using `git clone`."
   ]
  },
  {
   "cell_type": "code",
   "execution_count": 1,
   "metadata": {},
   "outputs": [],
   "source": [
    "cd"
   ]
  },
  {
   "cell_type": "code",
   "execution_count": 2,
   "metadata": {},
   "outputs": [],
   "source": [
    "if [ -d \"my_clone\" ]; then\n",
    "  rm -rf my_clone\n",
    "fi"
   ]
  },
  {
   "cell_type": "code",
   "execution_count": 3,
   "metadata": {},
   "outputs": [
    {
     "name": "stdout",
     "output_type": "stream",
     "text": [
      "Cloning into 'my_clone'...\n",
      "done.\n"
     ]
    }
   ],
   "source": [
    "git clone ~/my_project my_clone"
   ]
  },
  {
   "cell_type": "markdown",
   "metadata": {},
   "source": [
    "Let's remind ourselves what the log looks like in the `my_project` repository."
   ]
  },
  {
   "cell_type": "code",
   "execution_count": 4,
   "metadata": {},
   "outputs": [],
   "source": [
    "cd ~/my_project"
   ]
  },
  {
   "cell_type": "code",
   "execution_count": 5,
   "metadata": {},
   "outputs": [
    {
     "name": "stdout",
     "output_type": "stream",
     "text": [
      "c93eb6a (HEAD -> master) Fixing conflict in file1\n",
      "e814389 This is an innocent change.\n",
      "bc61ebd Making problems in file1\n",
      "5b75c02 Merging feature into master.\n",
      "f4dd054 Modifying file2.\n",
      "cdcb791 Adding file3.\n",
      "8ab55cd Modifying file1.\n",
      "f5ee173 Adding file2.\n",
      "52cc926 Adding file1\n"
     ]
    }
   ],
   "source": [
    "git log --oneline"
   ]
  },
  {
   "cell_type": "markdown",
   "metadata": {},
   "source": [
    "And now let's look at the log of our new _clone_."
   ]
  },
  {
   "cell_type": "code",
   "execution_count": 6,
   "metadata": {},
   "outputs": [],
   "source": [
    "cd ~/my_clone"
   ]
  },
  {
   "cell_type": "code",
   "execution_count": 7,
   "metadata": {},
   "outputs": [
    {
     "name": "stdout",
     "output_type": "stream",
     "text": [
      "c93eb6a (HEAD -> master, origin/master, origin/HEAD) Fixing conflict in file1\n",
      "e814389 This is an innocent change.\n",
      "bc61ebd Making problems in file1\n",
      "5b75c02 Merging feature into master.\n",
      "f4dd054 Modifying file2.\n",
      "cdcb791 Adding file3.\n",
      "8ab55cd Modifying file1.\n",
      "f5ee173 Adding file2.\n",
      "52cc926 Adding file1\n"
     ]
    }
   ],
   "source": [
    "git log --oneline"
   ]
  },
  {
   "cell_type": "markdown",
   "metadata": {},
   "source": [
    "Notice that there is extra information in the clone.  Just like in the `my_project` repository, it indicates that you are positioned at the end (`HEAD`) of the `master` branch's history, ready to add your next commit.\n",
    "\n",
    "However, it also says that this position in the history corresponds to the `origin/master` and `origin/HEAD`.  What are those?"
   ]
  },
  {
   "cell_type": "markdown",
   "metadata": {},
   "source": [
    "## Remotes"
   ]
  },
  {
   "cell_type": "markdown",
   "metadata": {},
   "source": [
    "That `origin` thing corresponds to the \"original repository.\"  To see what `origin` corresponds to, we need to use `git remote -v` (the `-v` says to be _verbose_ and display more information)."
   ]
  },
  {
   "cell_type": "code",
   "execution_count": 8,
   "metadata": {},
   "outputs": [
    {
     "name": "stdout",
     "output_type": "stream",
     "text": [
      "origin\t/Users/kpaul/my_project (fetch)\n",
      "origin\t/Users/kpaul/my_project (push)\n"
     ]
    }
   ],
   "source": [
    "git remote -v"
   ]
  },
  {
   "cell_type": "markdown",
   "metadata": {},
   "source": [
    "This tells you that the `origin` name is just a short-hand notation for the original repository `my_project`.  You can also see that `origin` is being used for both `fetch` (or `pull`) and `push` operations.  To understand how this works, we need to go back to our original repository and make some more commits."
   ]
  },
  {
   "cell_type": "markdown",
   "metadata": {},
   "source": [
    "## Pulls"
   ]
  },
  {
   "cell_type": "markdown",
   "metadata": {},
   "source": [
    "We are now going to go back to our original repository and add some commits to it.  Then we are going to `pull` those commits into our clone."
   ]
  },
  {
   "cell_type": "code",
   "execution_count": 9,
   "metadata": {},
   "outputs": [],
   "source": [
    "cd ~/my_project"
   ]
  },
  {
   "cell_type": "code",
   "execution_count": 10,
   "metadata": {},
   "outputs": [],
   "source": [
    "echo \"Even more text.\" >> file2.txt"
   ]
  },
  {
   "cell_type": "code",
   "execution_count": 11,
   "metadata": {},
   "outputs": [],
   "source": [
    "git add file2.txt"
   ]
  },
  {
   "cell_type": "code",
   "execution_count": 12,
   "metadata": {},
   "outputs": [
    {
     "name": "stdout",
     "output_type": "stream",
     "text": [
      "[master 0e1a544] Adding even more text to file2.\n",
      " 1 file changed, 1 insertion(+)\n"
     ]
    }
   ],
   "source": [
    "git commit -m \"Adding even more text to file2.\""
   ]
  },
  {
   "cell_type": "code",
   "execution_count": 13,
   "metadata": {},
   "outputs": [
    {
     "name": "stdout",
     "output_type": "stream",
     "text": [
      "0e1a544 (HEAD -> master) Adding even more text to file2.\n",
      "c93eb6a Fixing conflict in file1\n",
      "e814389 This is an innocent change.\n",
      "bc61ebd Making problems in file1\n",
      "5b75c02 Merging feature into master.\n",
      "f4dd054 Modifying file2.\n",
      "cdcb791 Adding file3.\n",
      "8ab55cd Modifying file1.\n",
      "f5ee173 Adding file2.\n",
      "52cc926 Adding file1\n"
     ]
    }
   ],
   "source": [
    "git log --oneline"
   ]
  },
  {
   "cell_type": "markdown",
   "metadata": {},
   "source": [
    "Now let's go back to our clone and see if anything changed."
   ]
  },
  {
   "cell_type": "code",
   "execution_count": 14,
   "metadata": {},
   "outputs": [],
   "source": [
    "cd ~/my_clone"
   ]
  },
  {
   "cell_type": "code",
   "execution_count": 15,
   "metadata": {},
   "outputs": [
    {
     "name": "stdout",
     "output_type": "stream",
     "text": [
      "c93eb6a (HEAD -> master, origin/master, origin/HEAD) Fixing conflict in file1\n",
      "e814389 This is an innocent change.\n",
      "bc61ebd Making problems in file1\n",
      "5b75c02 Merging feature into master.\n",
      "f4dd054 Modifying file2.\n",
      "cdcb791 Adding file3.\n",
      "8ab55cd Modifying file1.\n",
      "f5ee173 Adding file2.\n",
      "52cc926 Adding file1\n"
     ]
    }
   ],
   "source": [
    "git log --oneline"
   ]
  },
  {
   "cell_type": "markdown",
   "metadata": {},
   "source": [
    "Notice that things haven't changed in our clone.  But the new commit we added to the `origin` repository doesn't show up.\n",
    "\n",
    "To get the new commit into `my_project` into our clone, we need to do a `git pull`."
   ]
  },
  {
   "cell_type": "code",
   "execution_count": 16,
   "metadata": {},
   "outputs": [
    {
     "name": "stdout",
     "output_type": "stream",
     "text": [
      "remote: Enumerating objects: 5, done.\u001b[K\n",
      "remote: Counting objects: 100% (5/5), done.\u001b[K\n",
      "remote: Compressing objects: 100% (3/3), done.\u001b[K\n",
      "remote: Total 3 (delta 0), reused 0 (delta 0)\u001b[K\n",
      "Unpacking objects: 100% (3/3), done.\n",
      "From /Users/kpaul/my_project\n",
      "   c93eb6a..0e1a544  master     -> origin/master\n",
      "Updating c93eb6a..0e1a544\n",
      "Fast-forward\n",
      " file2.txt | 1 +\n",
      " 1 file changed, 1 insertion(+)\n"
     ]
    }
   ],
   "source": [
    "git pull"
   ]
  },
  {
   "cell_type": "code",
   "execution_count": 17,
   "metadata": {},
   "outputs": [
    {
     "name": "stdout",
     "output_type": "stream",
     "text": [
      "0e1a544 (HEAD -> master, origin/master, origin/HEAD) Adding even more text to file2.\n",
      "c93eb6a Fixing conflict in file1\n",
      "e814389 This is an innocent change.\n",
      "bc61ebd Making problems in file1\n",
      "5b75c02 Merging feature into master.\n",
      "f4dd054 Modifying file2.\n",
      "cdcb791 Adding file3.\n",
      "8ab55cd Modifying file1.\n",
      "f5ee173 Adding file2.\n",
      "52cc926 Adding file1\n"
     ]
    }
   ],
   "source": [
    "git log --oneline"
   ]
  },
  {
   "cell_type": "markdown",
   "metadata": {},
   "source": [
    "Now our new commit shows up and has been added to our clone."
   ]
  },
  {
   "cell_type": "markdown",
   "metadata": {},
   "source": [
    "What happens if we add commits to our clone, though?"
   ]
  },
  {
   "cell_type": "markdown",
   "metadata": {},
   "source": [
    "## Pushes"
   ]
  },
  {
   "cell_type": "markdown",
   "metadata": {},
   "source": [
    "Let's now make a commit to our clone."
   ]
  },
  {
   "cell_type": "code",
   "execution_count": 18,
   "metadata": {},
   "outputs": [],
   "source": [
    "echo \"Random text\" >> file3.txt"
   ]
  },
  {
   "cell_type": "code",
   "execution_count": 19,
   "metadata": {},
   "outputs": [],
   "source": [
    "git add file3.txt"
   ]
  },
  {
   "cell_type": "code",
   "execution_count": 20,
   "metadata": {},
   "outputs": [
    {
     "name": "stdout",
     "output_type": "stream",
     "text": [
      "[master 951e974] Adding random text to file3.\n",
      " 1 file changed, 1 insertion(+)\n"
     ]
    }
   ],
   "source": [
    "git commit -m \"Adding random text to file3.\""
   ]
  },
  {
   "cell_type": "markdown",
   "metadata": {},
   "source": [
    "Let's check the status of our clone."
   ]
  },
  {
   "cell_type": "code",
   "execution_count": 21,
   "metadata": {},
   "outputs": [
    {
     "name": "stdout",
     "output_type": "stream",
     "text": [
      "On branch master\n",
      "Your branch is ahead of 'origin/master' by 1 commit.\n",
      "  (use \"git push\" to publish your local commits)\n",
      "\n",
      "nothing to commit, working tree clean\n"
     ]
    }
   ],
   "source": [
    "git status"
   ]
  },
  {
   "cell_type": "markdown",
   "metadata": {},
   "source": [
    "The `master` branch on our clone points to the `master` branch on the `origin`, and we can see from the status message that our clone is 1 commit ahead of `origin/master`.  To send the commits we made to our clone to the `origin`, we just need to `git push` them. ...sort of.\n",
    "\n",
    "Unfortunately, you can't just do a simple `git push` because the `origin` repository currently has the `master` branch checked out.  So, instead, we say that we are going to `push` the clone's `master` branch into a new branch called `newbranch` on the `origin` repository."
   ]
  },
  {
   "cell_type": "code",
   "execution_count": 22,
   "metadata": {},
   "outputs": [
    {
     "name": "stdout",
     "output_type": "stream",
     "text": [
      "Enumerating objects: 5, done.\n",
      "Counting objects: 100% (5/5), done.\n",
      "Delta compression using up to 4 threads\n",
      "Compressing objects: 100% (2/2), done.\n",
      "Writing objects: 100% (3/3), 291 bytes | 291.00 KiB/s, done.\n",
      "Total 3 (delta 1), reused 0 (delta 0)\n",
      "To /Users/kpaul/my_project\n",
      " * [new branch]      master -> newbranch\n"
     ]
    }
   ],
   "source": [
    "git push origin master:newbranch"
   ]
  },
  {
   "cell_type": "markdown",
   "metadata": {},
   "source": [
    "Now, if we go back to our `origin` repository and look at our branches, we see the following."
   ]
  },
  {
   "cell_type": "code",
   "execution_count": 23,
   "metadata": {},
   "outputs": [],
   "source": [
    "cd ~/my_project"
   ]
  },
  {
   "cell_type": "code",
   "execution_count": 24,
   "metadata": {},
   "outputs": [
    {
     "name": "stdout",
     "output_type": "stream",
     "text": [
      "* master\n",
      "  newbranch\n"
     ]
    }
   ],
   "source": [
    "git branch"
   ]
  },
  {
   "cell_type": "markdown",
   "metadata": {},
   "source": [
    "And to get the new change into the `origin/master` branch, we just have to merge."
   ]
  },
  {
   "cell_type": "code",
   "execution_count": 25,
   "metadata": {},
   "outputs": [
    {
     "name": "stdout",
     "output_type": "stream",
     "text": [
      "Updating 0e1a544..951e974\n",
      "Fast-forward\n",
      " file3.txt | 1 +\n",
      " 1 file changed, 1 insertion(+)\n"
     ]
    }
   ],
   "source": [
    "git merge newbranch"
   ]
  },
  {
   "cell_type": "code",
   "execution_count": 26,
   "metadata": {},
   "outputs": [
    {
     "name": "stdout",
     "output_type": "stream",
     "text": [
      "Deleted branch newbranch (was 951e974).\n"
     ]
    }
   ],
   "source": [
    "git branch -d newbranch"
   ]
  },
  {
   "cell_type": "code",
   "execution_count": 27,
   "metadata": {},
   "outputs": [
    {
     "name": "stdout",
     "output_type": "stream",
     "text": [
      "951e974 (HEAD -> master) Adding random text to file3.\n",
      "0e1a544 Adding even more text to file2.\n",
      "c93eb6a Fixing conflict in file1\n",
      "e814389 This is an innocent change.\n",
      "bc61ebd Making problems in file1\n",
      "5b75c02 Merging feature into master.\n",
      "f4dd054 Modifying file2.\n",
      "cdcb791 Adding file3.\n",
      "8ab55cd Modifying file1.\n",
      "f5ee173 Adding file2.\n",
      "52cc926 Adding file1\n"
     ]
    }
   ],
   "source": [
    "git log --oneline"
   ]
  },
  {
   "cell_type": "markdown",
   "metadata": {},
   "source": [
    "And we can now see that the new change we made to the clone has been _pushed_ up to the `origin` repository."
   ]
  },
  {
   "cell_type": "markdown",
   "metadata": {},
   "source": [
    "## \"Pull Requests\""
   ]
  },
  {
   "cell_type": "markdown",
   "metadata": {},
   "source": [
    "Why couldn't we just do a simple `git push` like we could do a `git pull`?  Why did it have to get so complicated?\n",
    "\n",
    "The answer to that hase to do with how Git repositories are supposed to work, and how to keep them _safe_ from external _pushes_ while you are doing work in them.  Image that you were doing some work in your repository, and some one else cloned your repository and tried to push changes back into yours.  You might immediately see conflicts show up and other weird behaviors that might be hard to predict.  So, to prevent that scenario from happening, Git prevents you from _pushing_ changes into an existing repository if the branch into which the changes are being pushed has been checked out.  \n",
    "\n",
    "One solution to this complication is what we did above: you can push into a new branch, and create the branch \"on the fly.\"  Another solution is to make sure the `origin` repository is a _bare_ repository.  A _bare_ repository is, essentially, just the `.git` directory in your repository directory; that is, there is no place for files to be \"checked out,\" so there is no branch that can ever be checked out.  (To visualize this, instead of having our `my_project/.git` directory structure, imagine that we simply had `my_project.git`.)  As long as there are no branches checked out, there will never be any weird synching behavior when someone pushes their commits to the `origin` repository.  (Repositories on GitHub are all _bare_ repositories.)\n",
    "\n",
    "In general, though, it is usually much easier to just `pull`.  And you can set up the `origin` repository to have `fetch` capabilities from the clone repository.  Then, all you need to do is tell the owner of the `origin` repository that you have some changes they might want to `pull` into their repository.  This is called a _Pull Request_, and it is a procedure that is made incredibly easy by GitHub."
   ]
  }
 ],
 "metadata": {
  "kernelspec": {
   "display_name": "Bash",
   "language": "bash",
   "name": "bash"
  },
  "language_info": {
   "codemirror_mode": "shell",
   "file_extension": ".sh",
   "mimetype": "text/x-sh",
   "name": "bash"
  }
 },
 "nbformat": 4,
 "nbformat_minor": 2
}
