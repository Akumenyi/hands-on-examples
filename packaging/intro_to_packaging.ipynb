{
 "cells": [
  {
   "cell_type": "markdown",
   "metadata": {},
   "source": [
    "# A quick introduction to creating packages in Python"
   ]
  },
  {
   "cell_type": "markdown",
   "metadata": {},
   "source": [
    "## Why Are We Doing This?\n",
    "\n",
    "\n",
    "One of the most powerful things about coding for the sciences is that it costs nothing to re-use code we’ve written in the past, allowing us to build on past work rather than starting over every project or paper.\n",
    "\n",
    "However, one practice we see again and again is copying and pasting code from one project into another. Sometimes it will just be a function, other times (`MATLAB`, `NCL`) it’s files.\n",
    "\n",
    "Assembling code in packages makes it really easy to re-use old code: all the scripts and functions end up in a central location and can be called and \n",
    "imported from anywhere on the computer - just like the packages `numpy`, `xarray` or `matplotlib`."
   ]
  },
  {
   "cell_type": "markdown",
   "metadata": {},
   "source": [
    "## Setting Up\n",
    "\n",
    "In this tutorial, we’ll walk through the creation of a simple package from some code that’s just lying around. You can view and clone the demo package: https://github.com/ncar-hackathons/hello-cesm-package. \n"
   ]
  },
  {
   "cell_type": "markdown",
   "metadata": {},
   "source": [
    "### 1. The Basics\n",
    "\n",
    "The most basic directory structure for a Python package looks like this:\n",
    "\n",
    "```bash\n",
    "project\n",
    "|\n",
    "├── LICENSE\n",
    "├── README.md\n",
    "├── my_package\n",
    "│   ├── __init__.py\n",
    "│   └── some_module.py\n",
    "└── setup.py\n",
    "```"
   ]
  },
  {
   "cell_type": "markdown",
   "metadata": {},
   "source": [
    "But at the moment, we've just got some flat files.\n",
    "\n",
    "\n",
    "```bash\n",
    "project\n",
    "|\n",
    "├── statistics.py\n",
    "└── climatologies.py\n",
    "```"
   ]
  },
  {
   "cell_type": "markdown",
   "metadata": {},
   "source": [
    "So, the first step is to move files around. First comes the hardest part: choosing a package name. I’ll call mine `cesm_package`. Create a directory with that name, and move the python files in there."
   ]
  },
  {
   "cell_type": "markdown",
   "metadata": {},
   "source": [
    "```bash\n",
    "project\n",
    "└── cesm_package\n",
    "    ├── climatologies.py\n",
    "    └── statistics.py\n",
    "```"
   ]
  },
  {
   "cell_type": "markdown",
   "metadata": {},
   "source": [
    "There is one more crucial file: `__init__.py` lets the Python interpreter know that there are importable modules in this directory. This is the script that gets run when you execute import measure. For more about what you can do with modules, you can see the [Python docs](https://docs.python.org/3/tutorial/modules.html). After adding `__init__.py`, the project directory should be\n",
    "\n",
    "\n",
    "```bash\n",
    "project\n",
    "└── cesm_package\n",
    "    ├── __init__.py\n",
    "    ├── climatologies.py\n",
    "    └── statistics.py\n",
    "```"
   ]
  },
  {
   "cell_type": "markdown",
   "metadata": {},
   "source": [
    "## `2. setup.py`\n",
    "\n",
    "At this point, the library can be imported if we’re in the same directory, but it isn’t a package. To let `setuptools` and `pip` know how to handle it, we need to add the `setup.py` file.\n",
    "\n",
    "A very basic version of setup.py is:\n",
    "\n",
    "\n",
    "```python\n",
    "\n",
    "\n",
    "\"\"\"The setup script.\"\"\"\n",
    "\n",
    "\n",
    "from setuptools import setup\n",
    "\n",
    "install_requires = ['xarray', 'numpy', 'matplotlib'] # Whatever third-party libraries are needed\n",
    "\n",
    "\n",
    "\n",
    "setup(\n",
    "    author='Alice Doe',\n",
    "    author_email='alice@example.com',\n",
    "    description='My CESM analysis package',\n",
    "    install_requires=install_requires,\n",
    "    license='MIT',\n",
    "    long_description='CESM data analysis package'\n",
    "    keywords='ocean modeling',\n",
    "    name='cesm-package',\n",
    "    packages=['cesm_package'],\n",
    "    url='https://github.com/github-user-name/project-name',\n",
    "    version='0.1',\n",
    "    zip_safe=False,\n",
    ")\n",
    "\n",
    "```"
   ]
  },
  {
   "cell_type": "markdown",
   "metadata": {},
   "source": [
    "After adding `setup.py` the project directory should be \n",
    "\n",
    "\n",
    "```bash\n",
    "project\n",
    "├── cesm_package\n",
    "│   ├── __init__.py\n",
    "│   ├── climatologies.py\n",
    "│   └── statistics.py\n",
    "└── setup.py\n",
    "```"
   ]
  },
  {
   "cell_type": "markdown",
   "metadata": {},
   "source": [
    "### 3. Installing?\n",
    "\n",
    "Technically, you can install the module by running `python setup.py install`, however during development, it’s much more convenient to run the following command from the root directory of your project (directory in which`setup.py` is located in)\n",
    "\n",
    "```bash\n",
    "python setup.py develop\n",
    "```"
   ]
  },
  {
   "cell_type": "code",
   "execution_count": 15,
   "metadata": {},
   "outputs": [
    {
     "name": "stdout",
     "output_type": "stream",
     "text": [
      "LICENSE      README.md    \u001b[34mcesm_package\u001b[39;49m\u001b[0m setup.py\n"
     ]
    }
   ],
   "source": [
    "ls"
   ]
  },
  {
   "cell_type": "code",
   "execution_count": 21,
   "metadata": {},
   "outputs": [
    {
     "name": "stdout",
     "output_type": "stream",
     "text": [
      "running develop\n",
      "running egg_info\n",
      "writing cesm_package.egg-info/PKG-INFO\n",
      "writing dependency_links to cesm_package.egg-info/dependency_links.txt\n",
      "writing requirements to cesm_package.egg-info/requires.txt\n",
      "writing top-level names to cesm_package.egg-info/top_level.txt\n",
      "reading manifest file 'cesm_package.egg-info/SOURCES.txt'\n",
      "reading manifest template 'MANIFEST.in'\n",
      "writing manifest file 'cesm_package.egg-info/SOURCES.txt'\n",
      "running build_ext\n",
      "Creating /Users/abanihi/opt/miniconda3/envs/devel/lib/python3.6/site-packages/cesm-package.egg-link (link to .)\n",
      "cesm-package 0.1 is already the active version in easy-install.pth\n",
      "\n",
      "Installed /Users/abanihi/devel/ncar-hacks/hello-cesm-package\n",
      "Processing dependencies for cesm-package==0.1\n",
      "Searching for matplotlib==3.1.0\n",
      "Best match: matplotlib 3.1.0\n",
      "Adding matplotlib 3.1.0 to easy-install.pth file\n",
      "\n",
      "Using /Users/abanihi/opt/miniconda3/envs/devel/lib/python3.6/site-packages\n",
      "Searching for numpy==1.16.4\n",
      "Best match: numpy 1.16.4\n",
      "Adding numpy 1.16.4 to easy-install.pth file\n",
      "Installing f2py script to /Users/abanihi/opt/miniconda3/envs/devel/bin\n",
      "Installing f2py3 script to /Users/abanihi/opt/miniconda3/envs/devel/bin\n",
      "Installing f2py3.6 script to /Users/abanihi/opt/miniconda3/envs/devel/bin\n",
      "\n",
      "Using /Users/abanihi/opt/miniconda3/envs/devel/lib/python3.6/site-packages\n",
      "Searching for xarray==0.12.1\n",
      "Best match: xarray 0.12.1\n",
      "Adding xarray 0.12.1 to easy-install.pth file\n",
      "\n",
      "Using /Users/abanihi/opt/miniconda3/envs/devel/lib/python3.6/site-packages\n",
      "Searching for python-dateutil==2.8.0\n",
      "Best match: python-dateutil 2.8.0\n",
      "Adding python-dateutil 2.8.0 to easy-install.pth file\n",
      "\n",
      "Using /Users/abanihi/opt/miniconda3/envs/devel/lib/python3.6/site-packages\n",
      "Searching for cycler==0.10.0\n",
      "Best match: cycler 0.10.0\n",
      "Processing cycler-0.10.0-py3.6.egg\n",
      "cycler 0.10.0 is already the active version in easy-install.pth\n",
      "\n",
      "Using /Users/abanihi/opt/miniconda3/envs/devel/lib/python3.6/site-packages/cycler-0.10.0-py3.6.egg\n",
      "Searching for kiwisolver==1.1.0\n",
      "Best match: kiwisolver 1.1.0\n",
      "Adding kiwisolver 1.1.0 to easy-install.pth file\n",
      "\n",
      "Using /Users/abanihi/opt/miniconda3/envs/devel/lib/python3.6/site-packages\n",
      "Searching for pyparsing==2.4.0\n",
      "Best match: pyparsing 2.4.0\n",
      "Adding pyparsing 2.4.0 to easy-install.pth file\n",
      "\n",
      "Using /Users/abanihi/opt/miniconda3/envs/devel/lib/python3.6/site-packages\n",
      "Searching for pandas==0.24.2\n",
      "Best match: pandas 0.24.2\n",
      "Adding pandas 0.24.2 to easy-install.pth file\n",
      "\n",
      "Using /Users/abanihi/opt/miniconda3/envs/devel/lib/python3.6/site-packages\n",
      "Searching for six==1.12.0\n",
      "Best match: six 1.12.0\n",
      "Adding six 1.12.0 to easy-install.pth file\n",
      "\n",
      "Using /Users/abanihi/opt/miniconda3/envs/devel/lib/python3.6/site-packages\n",
      "Searching for setuptools==39.1.0\n",
      "Best match: setuptools 39.1.0\n",
      "Adding setuptools 39.1.0 to easy-install.pth file\n",
      "Installing easy_install script to /Users/abanihi/opt/miniconda3/envs/devel/bin\n",
      "\n",
      "Using /Users/abanihi/opt/miniconda3/envs/devel/lib/python3.6/site-packages\n",
      "Searching for pytz==2019.1\n",
      "Best match: pytz 2019.1\n",
      "Adding pytz 2019.1 to easy-install.pth file\n",
      "\n",
      "Using /Users/abanihi/opt/miniconda3/envs/devel/lib/python3.6/site-packages\n",
      "Finished processing dependencies for cesm-package==0.1\n"
     ]
    }
   ],
   "source": [
    "python setup.py develop"
   ]
  },
  {
   "cell_type": "markdown",
   "metadata": {},
   "source": [
    "#### Using GIT/GitHub\n",
    "\n",
    "This is my preferred way of quickly sharing/storing/installing packages. Simply create a git repo of the project directory, and put it somewhere. Then, use pip to install it from that repo directly.\n",
    "\n",
    "\n",
    "```bash \n",
    "pip install git+https://github.com/ncar-hackathons/hello-cesm-package\n",
    "```"
   ]
  },
  {
   "cell_type": "markdown",
   "metadata": {},
   "source": [
    "An advantage of this is that you can also install to particular branches, tags, and commits. A common practice is add a tag for the version release `git tag v0.1`. Users of the library can then lock into that particular version,\n",
    "\n",
    "\n",
    "```bash \n",
    "pip install git+https://github.com/ncar-hackathons/hello-cesm-package@v0.1\n",
    "```"
   ]
  },
  {
   "cell_type": "markdown",
   "metadata": {},
   "source": [
    "### Documentation!\n",
    "\n",
    "We’ve already begun the documentation by adding a short description, author/maintainer name, and version… but there’s a lot more to add. At a minimum, a README file should be included, but so should a license dilw, changes between versions, and actual software documentation.\n",
    "\n",
    "### README\n",
    "\n",
    "A readme file summarizes the software. For Python packages, this can named README, README.rst, or README.md. The recommendation is to use [reST](http://docutils.sourceforge.net/rst.html), as this is the standard on PyPI\n",
    "\n",
    "\n",
    "\n",
    "### LICENSE\n",
    "\n",
    "The typical thing is to put the license you choose in LICENSE.md. There are a few choices for licenses. If you’re using github, you can add most standard open source licenses through the website.\n",
    "\n",
    "Check this web page for learning more about open source licenses: https://opensource.guide/legal/"
   ]
  },
  {
   "cell_type": "markdown",
   "metadata": {},
   "source": [
    "#### CHANGES\n",
    "\n",
    "Changes between versions are usually tracked in `CHANGELOG.rst`. This is more of a concern if you’re planning to distribute the software.\n"
   ]
  },
  {
   "cell_type": "markdown",
   "metadata": {},
   "source": [
    "### 5. OTHER THINGS TO THINK OF\n",
    "\n",
    "A good package should also include full documentation and testing. I won’t cover this here, but unit tests can be performed with the `pytest` library: https://docs.pytest.org/en/latest/, with the tests stored in the directory tests. \n",
    "\n",
    "We can run tests with the following command:"
   ]
  },
  {
   "cell_type": "code",
   "execution_count": 20,
   "metadata": {},
   "outputs": [
    {
     "name": "stdout",
     "output_type": "stream",
     "text": [
      "\u001b[1m============================= test session starts ==============================\u001b[0m\n",
      "platform darwin -- Python 3.6.7, pytest-3.9.1, py-1.8.0, pluggy-0.12.0 -- /Users/abanihi/opt/miniconda3/envs/devel/bin/python\n",
      "cachedir: .pytest_cache\n",
      "rootdir: /Users/abanihi/devel/ncar-hacks/hello-cesm-package, inifile:\n",
      "plugins: icdiff-0.2, env-0.6.2, cov-2.7.1, print-0.1.2, cpp-1.1.0\n",
      "collected 1 item                                                               \u001b[0m\n",
      "\n",
      "tests/test_statistics.py::test_sample \u001b[32mPASSED\u001b[0m\u001b[36m                             [100%]\u001b[0m\n",
      "\n",
      "\u001b[32m\u001b[1m=========================== 1 passed in 0.01 seconds ===========================\u001b[0m\n"
     ]
    }
   ],
   "source": [
    "pytest tests -v"
   ]
  },
  {
   "cell_type": "markdown",
   "metadata": {},
   "source": [
    "\n",
    "Many people use Sphinx for documentation, and that can be stored in the docs directory.\n",
    "\n",
    "There’s a further step required for distributing. If you want to include these files in the distribution file of your package, you’ll need a \n",
    "`MANIFEST.in` file.\n",
    "\n",
    "#### `MANIFEST.in`\n",
    "\n",
    "```\n",
    "include *.py\n",
    "recursive-include docs *.rst\n",
    "```"
   ]
  },
  {
   "cell_type": "markdown",
   "metadata": {},
   "source": [
    "\n",
    "\n",
    "## 6. Where To Go From Here?\n",
    "\n",
    "So, at this point, we’ve got a pretty good project skeleton, and most of the basics are covered. Your package should look something like this:\n",
    "\n",
    "```bash\n",
    "\n",
    "project\n",
    "├── CHANGELOG.rst\n",
    "├── LICENSE\n",
    "├── MANIFEST.in\n",
    "├── README.md\n",
    "├── cesm_package\n",
    "│   ├── __init__.py\n",
    "│   ├── climatologies.py\n",
    "│   ├── demo.ipynb\n",
    "│   └── statistics.py\n",
    "├── docs\n",
    "│   └── overview.rst\n",
    "├── setup.py\n",
    "└── tests\n",
    "    └── test_statistics.py\n",
    "```"
   ]
  },
  {
   "cell_type": "markdown",
   "metadata": {},
   "source": [
    "If you have software that covers all these points, then congratulations! You’re well on your way to a well-maintained software package."
   ]
  },
  {
   "cell_type": "markdown",
   "metadata": {},
   "source": [
    "\n",
    "## So Where Do I Actually Go?\n",
    "\n",
    "To get a detailed look at packaging, check out \n",
    "\n",
    "- [the official Python docs](https://docs.python.org/3/distributing/index.html); they’re complete, accessible, and generally more up to date.\n",
    "- [NCAR pop-tools project](https://github.com/NCAR/pop-tools) for reference"
   ]
  }
 ],
 "metadata": {
  "kernelspec": {
   "display_name": "Bash",
   "language": "bash",
   "name": "bash"
  },
  "language_info": {
   "codemirror_mode": "shell",
   "file_extension": ".sh",
   "mimetype": "text/x-sh",
   "name": "bash"
  }
 },
 "nbformat": 4,
 "nbformat_minor": 2
}
